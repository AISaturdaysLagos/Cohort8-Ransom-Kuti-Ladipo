{
 "cells": [
  {
   "cell_type": "code",
   "execution_count": null,
   "metadata": {},
   "outputs": [],
   "source": [
    "import os \n",
    "import pandas as pd"
   ]
  },
  {
   "cell_type": "code",
   "execution_count": 2,
   "metadata": {},
   "outputs": [],
   "source": [
    "# Change directory to yb2audio directory\n",
    "os.chdir('..')"
   ]
  },
  {
   "cell_type": "code",
   "execution_count": 3,
   "metadata": {},
   "outputs": [
    {
     "data": {
      "text/plain": [
       "'c:\\\\Main Workspace\\\\Cohort8-Ransom-Kuti-Ladipo\\\\yb2audio'"
      ]
     },
     "execution_count": 3,
     "metadata": {},
     "output_type": "execute_result"
    }
   ],
   "source": [
    "# Print current working directory\n",
    "os.getcwd()"
   ]
  },
  {
   "cell_type": "code",
   "execution_count": null,
   "metadata": {},
   "outputs": [],
   "source": [
    "metadata_path = \"\"\n",
    "'data/raw/iroyinspeech/train.tsv'\n",
    "'data/raw/iroyinspeech/invalidated.tsv'\n",
    "'data/raw/iroyinspeech/clip_durations.tsv'"
   ]
  },
  {
   "cell_type": "code",
   "execution_count": 8,
   "metadata": {},
   "outputs": [
    {
     "ename": "NameError",
     "evalue": "name 'dev_df' is not defined",
     "output_type": "error",
     "traceback": [
      "\u001b[1;31m---------------------------------------------------------------------------\u001b[0m",
      "\u001b[1;31mNameError\u001b[0m                                 Traceback (most recent call last)",
      "Cell \u001b[1;32mIn[8], line 2\u001b[0m\n\u001b[0;32m      1\u001b[0m \u001b[38;5;66;03m# Read in the datadev_df = pd.read_csv('data/raw/iroyinspeech/dev.tsv', delimiter= '\\t')\u001b[39;00m\n\u001b[1;32m----> 2\u001b[0m \u001b[43mdev_df\u001b[49m\u001b[38;5;241m.\u001b[39mhead()\n",
      "\u001b[1;31mNameError\u001b[0m: name 'dev_df' is not defined"
     ]
    }
   ],
   "source": [
    "# Read in the metadata\n",
    "metadata_df = pd.read_csv(metadata_path, delimiter= '\\t')\n",
    "metadata_df.head()"
   ]
  },
  {
   "cell_type": "code",
   "execution_count": 4,
   "metadata": {},
   "outputs": [
    {
     "name": "stdout",
     "output_type": "stream",
     "text": [
      "<class 'pandas.core.frame.DataFrame'>\n",
      "RangeIndex: 862 entries, 0 to 861\n",
      "Data columns (total 11 columns):\n",
      " #   Column      Non-Null Count  Dtype  \n",
      "---  ------      --------------  -----  \n",
      " 0   client_id   862 non-null    object \n",
      " 1   path        862 non-null    object \n",
      " 2   sentence    862 non-null    object \n",
      " 3   up_votes    862 non-null    int64  \n",
      " 4   down_votes  862 non-null    int64  \n",
      " 5   age         786 non-null    object \n",
      " 6   gender      786 non-null    object \n",
      " 7   accents     106 non-null    object \n",
      " 8   variant     0 non-null      float64\n",
      " 9   locale      862 non-null    object \n",
      " 10  segment     0 non-null      float64\n",
      "dtypes: float64(2), int64(2), object(7)\n",
      "memory usage: 74.2+ KB\n"
     ]
    }
   ],
   "source": [
    "metadata_df.info()"
   ]
  },
  {
   "cell_type": "code",
   "execution_count": 5,
   "metadata": {},
   "outputs": [
    {
     "data": {
      "text/plain": [
       "(862, 11)"
      ]
     },
     "execution_count": 5,
     "metadata": {},
     "output_type": "execute_result"
    }
   ],
   "source": [
    "metadata_df.shape"
   ]
  },
  {
   "cell_type": "code",
   "execution_count": 6,
   "metadata": {},
   "outputs": [
    {
     "data": {
      "text/plain": [
       "array(['yo'], dtype=object)"
      ]
     },
     "execution_count": 6,
     "metadata": {},
     "output_type": "execute_result"
    }
   ],
   "source": [
    "metadata_df['locale'].unique()"
   ]
  },
  {
   "cell_type": "code",
   "execution_count": 7,
   "metadata": {},
   "outputs": [
    {
     "data": {
      "text/html": [
       "<div>\n",
       "<style scoped>\n",
       "    .dataframe tbody tr th:only-of-type {\n",
       "        vertical-align: middle;\n",
       "    }\n",
       "\n",
       "    .dataframe tbody tr th {\n",
       "        vertical-align: top;\n",
       "    }\n",
       "\n",
       "    .dataframe thead th {\n",
       "        text-align: right;\n",
       "    }\n",
       "</style>\n",
       "<table border=\"1\" class=\"dataframe\">\n",
       "  <thead>\n",
       "    <tr style=\"text-align: right;\">\n",
       "      <th></th>\n",
       "      <th>client_id</th>\n",
       "      <th>path</th>\n",
       "      <th>sentence</th>\n",
       "      <th>up_votes</th>\n",
       "      <th>down_votes</th>\n",
       "      <th>age</th>\n",
       "      <th>gender</th>\n",
       "      <th>accents</th>\n",
       "      <th>variant</th>\n",
       "      <th>locale</th>\n",
       "      <th>segment</th>\n",
       "    </tr>\n",
       "  </thead>\n",
       "  <tbody>\n",
       "    <tr>\n",
       "      <th>0</th>\n",
       "      <td>7bc2ed85985f28af0f62be69494e94d712557f6d7893a0...</td>\n",
       "      <td>common_voice_yo_36840058.mp3</td>\n",
       "      <td>Ọmọ ẹgbẹ́ òkùnkùn dèrò àtìmọ́lé torí nílùú Ìbà...</td>\n",
       "      <td>2</td>\n",
       "      <td>0</td>\n",
       "      <td>NaN</td>\n",
       "      <td>NaN</td>\n",
       "      <td>NaN</td>\n",
       "      <td>NaN</td>\n",
       "      <td>yo</td>\n",
       "      <td>NaN</td>\n",
       "    </tr>\n",
       "    <tr>\n",
       "      <th>1</th>\n",
       "      <td>7bc2ed85985f28af0f62be69494e94d712557f6d7893a0...</td>\n",
       "      <td>common_voice_yo_36840059.mp3</td>\n",
       "      <td>Ìyàwó àwọn ọlọ́pàá tó kú lásìkò ìwọ́de tó kọ...</td>\n",
       "      <td>2</td>\n",
       "      <td>0</td>\n",
       "      <td>NaN</td>\n",
       "      <td>NaN</td>\n",
       "      <td>NaN</td>\n",
       "      <td>NaN</td>\n",
       "      <td>yo</td>\n",
       "      <td>NaN</td>\n",
       "    </tr>\n",
       "    <tr>\n",
       "      <th>2</th>\n",
       "      <td>7bc2ed85985f28af0f62be69494e94d712557f6d7893a0...</td>\n",
       "      <td>common_voice_yo_36840060.mp3</td>\n",
       "      <td>Nítori ọrọ táa sọ lọ́jọ́sí ni Túndé yoo f...</td>\n",
       "      <td>2</td>\n",
       "      <td>0</td>\n",
       "      <td>NaN</td>\n",
       "      <td>NaN</td>\n",
       "      <td>NaN</td>\n",
       "      <td>NaN</td>\n",
       "      <td>yo</td>\n",
       "      <td>NaN</td>\n",
       "    </tr>\n",
       "    <tr>\n",
       "      <th>3</th>\n",
       "      <td>7bc2ed85985f28af0f62be69494e94d712557f6d7893a0...</td>\n",
       "      <td>common_voice_yo_36840061.mp3</td>\n",
       "      <td>Ilẹ̀ mímìtìtì ní ìlú ṣakí ti sọ àwọn olug...</td>\n",
       "      <td>2</td>\n",
       "      <td>0</td>\n",
       "      <td>NaN</td>\n",
       "      <td>NaN</td>\n",
       "      <td>NaN</td>\n",
       "      <td>NaN</td>\n",
       "      <td>yo</td>\n",
       "      <td>NaN</td>\n",
       "    </tr>\n",
       "    <tr>\n",
       "      <th>4</th>\n",
       "      <td>7bc2ed85985f28af0f62be69494e94d712557f6d7893a0...</td>\n",
       "      <td>common_voice_yo_36840342.mp3</td>\n",
       "      <td>Ìgbòho ní Aláàfin, Ọ̀ọ̀nì, Olúbàdàn tì òun lẹ́...</td>\n",
       "      <td>2</td>\n",
       "      <td>0</td>\n",
       "      <td>NaN</td>\n",
       "      <td>NaN</td>\n",
       "      <td>NaN</td>\n",
       "      <td>NaN</td>\n",
       "      <td>yo</td>\n",
       "      <td>NaN</td>\n",
       "    </tr>\n",
       "  </tbody>\n",
       "</table>\n",
       "</div>"
      ],
      "text/plain": [
       "                                           client_id  \\\n",
       "0  7bc2ed85985f28af0f62be69494e94d712557f6d7893a0...   \n",
       "1  7bc2ed85985f28af0f62be69494e94d712557f6d7893a0...   \n",
       "2  7bc2ed85985f28af0f62be69494e94d712557f6d7893a0...   \n",
       "3  7bc2ed85985f28af0f62be69494e94d712557f6d7893a0...   \n",
       "4  7bc2ed85985f28af0f62be69494e94d712557f6d7893a0...   \n",
       "\n",
       "                           path  \\\n",
       "0  common_voice_yo_36840058.mp3   \n",
       "1  common_voice_yo_36840059.mp3   \n",
       "2  common_voice_yo_36840060.mp3   \n",
       "3  common_voice_yo_36840061.mp3   \n",
       "4  common_voice_yo_36840342.mp3   \n",
       "\n",
       "                                            sentence  up_votes  down_votes  \\\n",
       "0  Ọmọ ẹgbẹ́ òkùnkùn dèrò àtìmọ́lé torí nílùú Ìbà...         2           0   \n",
       "1  Ìyàwó àwọn ọlọ́pàá tó kú lásìkò ìwọ́de tó kọ...         2           0   \n",
       "2  Nítori ọrọ táa sọ lọ́jọ́sí ni Túndé yoo f...         2           0   \n",
       "3  Ilẹ̀ mímìtìtì ní ìlú ṣakí ti sọ àwọn olug...         2           0   \n",
       "4  Ìgbòho ní Aláàfin, Ọ̀ọ̀nì, Olúbàdàn tì òun lẹ́...         2           0   \n",
       "\n",
       "   age gender  accents  variant locale  segment  \n",
       "0  NaN    NaN      NaN      NaN     yo      NaN  \n",
       "1  NaN    NaN      NaN      NaN     yo      NaN  \n",
       "2  NaN    NaN      NaN      NaN     yo      NaN  \n",
       "3  NaN    NaN      NaN      NaN     yo      NaN  \n",
       "4  NaN    NaN      NaN      NaN     yo      NaN  "
      ]
     },
     "execution_count": 7,
     "metadata": {},
     "output_type": "execute_result"
    }
   ],
   "source": [
    "train_df = pd.read_csv('data/raw/iroyinspeech/train.tsv', delimiter='\\t')\n",
    "train_df.head()"
   ]
  },
  {
   "cell_type": "code",
   "execution_count": 8,
   "metadata": {},
   "outputs": [
    {
     "data": {
      "text/plain": [
       "(1209, 11)"
      ]
     },
     "execution_count": 8,
     "metadata": {},
     "output_type": "execute_result"
    }
   ],
   "source": [
    "train_df.shape"
   ]
  },
  {
   "cell_type": "code",
   "execution_count": 9,
   "metadata": {},
   "outputs": [
    {
     "name": "stdout",
     "output_type": "stream",
     "text": [
      "<class 'pandas.core.frame.DataFrame'>\n",
      "RangeIndex: 1209 entries, 0 to 1208\n",
      "Data columns (total 11 columns):\n",
      " #   Column      Non-Null Count  Dtype  \n",
      "---  ------      --------------  -----  \n",
      " 0   client_id   1209 non-null   object \n",
      " 1   path        1209 non-null   object \n",
      " 2   sentence    1209 non-null   object \n",
      " 3   up_votes    1209 non-null   int64  \n",
      " 4   down_votes  1209 non-null   int64  \n",
      " 5   age         812 non-null    object \n",
      " 6   gender      812 non-null    object \n",
      " 7   accents     0 non-null      float64\n",
      " 8   variant     0 non-null      float64\n",
      " 9   locale      1209 non-null   object \n",
      " 10  segment     0 non-null      float64\n",
      "dtypes: float64(3), int64(2), object(6)\n",
      "memory usage: 104.0+ KB\n"
     ]
    }
   ],
   "source": [
    "train_df.info()"
   ]
  },
  {
   "cell_type": "code",
   "execution_count": 10,
   "metadata": {},
   "outputs": [
    {
     "data": {
      "text/html": [
       "<div>\n",
       "<style scoped>\n",
       "    .dataframe tbody tr th:only-of-type {\n",
       "        vertical-align: middle;\n",
       "    }\n",
       "\n",
       "    .dataframe tbody tr th {\n",
       "        vertical-align: top;\n",
       "    }\n",
       "\n",
       "    .dataframe thead th {\n",
       "        text-align: right;\n",
       "    }\n",
       "</style>\n",
       "<table border=\"1\" class=\"dataframe\">\n",
       "  <thead>\n",
       "    <tr style=\"text-align: right;\">\n",
       "      <th></th>\n",
       "      <th>clip</th>\n",
       "      <th>duration[ms]</th>\n",
       "    </tr>\n",
       "  </thead>\n",
       "  <tbody>\n",
       "    <tr>\n",
       "      <th>0</th>\n",
       "      <td>common_voice_yo_36943164.mp3</td>\n",
       "      <td>6228</td>\n",
       "    </tr>\n",
       "    <tr>\n",
       "      <th>1</th>\n",
       "      <td>common_voice_yo_36917660.mp3</td>\n",
       "      <td>5076</td>\n",
       "    </tr>\n",
       "    <tr>\n",
       "      <th>2</th>\n",
       "      <td>common_voice_yo_36886387.mp3</td>\n",
       "      <td>5256</td>\n",
       "    </tr>\n",
       "    <tr>\n",
       "      <th>3</th>\n",
       "      <td>common_voice_yo_37036958.mp3</td>\n",
       "      <td>4788</td>\n",
       "    </tr>\n",
       "    <tr>\n",
       "      <th>4</th>\n",
       "      <td>common_voice_yo_36969516.mp3</td>\n",
       "      <td>5256</td>\n",
       "    </tr>\n",
       "  </tbody>\n",
       "</table>\n",
       "</div>"
      ],
      "text/plain": [
       "                           clip  duration[ms]\n",
       "0  common_voice_yo_36943164.mp3          6228\n",
       "1  common_voice_yo_36917660.mp3          5076\n",
       "2  common_voice_yo_36886387.mp3          5256\n",
       "3  common_voice_yo_37036958.mp3          4788\n",
       "4  common_voice_yo_36969516.mp3          5256"
      ]
     },
     "execution_count": 10,
     "metadata": {},
     "output_type": "execute_result"
    }
   ],
   "source": [
    "clip_duration = pd.read_csv('data/raw/iroyinspeech/clip_durations.tsv', delimiter= '\\t')\n",
    "clip_duration.head()"
   ]
  },
  {
   "cell_type": "code",
   "execution_count": 11,
   "metadata": {},
   "outputs": [
    {
     "data": {
      "text/html": [
       "<div>\n",
       "<style scoped>\n",
       "    .dataframe tbody tr th:only-of-type {\n",
       "        vertical-align: middle;\n",
       "    }\n",
       "\n",
       "    .dataframe tbody tr th {\n",
       "        vertical-align: top;\n",
       "    }\n",
       "\n",
       "    .dataframe thead th {\n",
       "        text-align: right;\n",
       "    }\n",
       "</style>\n",
       "<table border=\"1\" class=\"dataframe\">\n",
       "  <thead>\n",
       "    <tr style=\"text-align: right;\">\n",
       "      <th></th>\n",
       "      <th>client_id</th>\n",
       "      <th>path</th>\n",
       "      <th>sentence</th>\n",
       "      <th>up_votes</th>\n",
       "      <th>down_votes</th>\n",
       "      <th>age</th>\n",
       "      <th>gender</th>\n",
       "      <th>accents</th>\n",
       "      <th>variant</th>\n",
       "      <th>locale</th>\n",
       "      <th>segment</th>\n",
       "    </tr>\n",
       "  </thead>\n",
       "  <tbody>\n",
       "    <tr>\n",
       "      <th>0</th>\n",
       "      <td>eb17abb948d9d4e5a45de18b277b543139e5e3628fb0b4...</td>\n",
       "      <td>common_voice_yo_36518281.mp3</td>\n",
       "      <td>Àbúrò gbajúgbajà oníṣòwò yẹn ló ti kéde ì...</td>\n",
       "      <td>2</td>\n",
       "      <td>4</td>\n",
       "      <td>thirties</td>\n",
       "      <td>male</td>\n",
       "      <td>native speaker</td>\n",
       "      <td>NaN</td>\n",
       "      <td>yo</td>\n",
       "      <td>NaN</td>\n",
       "    </tr>\n",
       "    <tr>\n",
       "      <th>1</th>\n",
       "      <td>7b9e846c3b7876fef898630d74244b0a0df5d40b2b8a28...</td>\n",
       "      <td>common_voice_yo_36520588.mp3</td>\n",
       "      <td>Gbogbo Ọba Yorùbá ló ń bọ òrìṣà.</td>\n",
       "      <td>0</td>\n",
       "      <td>2</td>\n",
       "      <td>twenties</td>\n",
       "      <td>male</td>\n",
       "      <td>NaN</td>\n",
       "      <td>NaN</td>\n",
       "      <td>yo</td>\n",
       "      <td>NaN</td>\n",
       "    </tr>\n",
       "    <tr>\n",
       "      <th>2</th>\n",
       "      <td>7b9e846c3b7876fef898630d74244b0a0df5d40b2b8a28...</td>\n",
       "      <td>common_voice_yo_36520639.mp3</td>\n",
       "      <td>Yàrá ìforúkọsílẹ̀ olùdìbò ni a ti ṣí síta l...</td>\n",
       "      <td>0</td>\n",
       "      <td>2</td>\n",
       "      <td>twenties</td>\n",
       "      <td>male</td>\n",
       "      <td>NaN</td>\n",
       "      <td>NaN</td>\n",
       "      <td>yo</td>\n",
       "      <td>NaN</td>\n",
       "    </tr>\n",
       "    <tr>\n",
       "      <th>3</th>\n",
       "      <td>7b9e846c3b7876fef898630d74244b0a0df5d40b2b8a28...</td>\n",
       "      <td>common_voice_yo_36520640.mp3</td>\n",
       "      <td>Ọlọ́pàá Èkó ti mú ọlọ́pàá tó yìnbọn pa arábì...</td>\n",
       "      <td>0</td>\n",
       "      <td>2</td>\n",
       "      <td>twenties</td>\n",
       "      <td>male</td>\n",
       "      <td>NaN</td>\n",
       "      <td>NaN</td>\n",
       "      <td>yo</td>\n",
       "      <td>NaN</td>\n",
       "    </tr>\n",
       "    <tr>\n",
       "      <th>4</th>\n",
       "      <td>7b9e846c3b7876fef898630d74244b0a0df5d40b2b8a28...</td>\n",
       "      <td>common_voice_yo_36520713.mp3</td>\n",
       "      <td>Àwa kìí ṣe aláàárù, a sì kìí ṣe abó...</td>\n",
       "      <td>0</td>\n",
       "      <td>2</td>\n",
       "      <td>twenties</td>\n",
       "      <td>male</td>\n",
       "      <td>NaN</td>\n",
       "      <td>NaN</td>\n",
       "      <td>yo</td>\n",
       "      <td>NaN</td>\n",
       "    </tr>\n",
       "  </tbody>\n",
       "</table>\n",
       "</div>"
      ],
      "text/plain": [
       "                                           client_id  \\\n",
       "0  eb17abb948d9d4e5a45de18b277b543139e5e3628fb0b4...   \n",
       "1  7b9e846c3b7876fef898630d74244b0a0df5d40b2b8a28...   \n",
       "2  7b9e846c3b7876fef898630d74244b0a0df5d40b2b8a28...   \n",
       "3  7b9e846c3b7876fef898630d74244b0a0df5d40b2b8a28...   \n",
       "4  7b9e846c3b7876fef898630d74244b0a0df5d40b2b8a28...   \n",
       "\n",
       "                           path  \\\n",
       "0  common_voice_yo_36518281.mp3   \n",
       "1  common_voice_yo_36520588.mp3   \n",
       "2  common_voice_yo_36520639.mp3   \n",
       "3  common_voice_yo_36520640.mp3   \n",
       "4  common_voice_yo_36520713.mp3   \n",
       "\n",
       "                                            sentence  up_votes  down_votes  \\\n",
       "0  Àbúrò gbajúgbajà oníṣòwò yẹn ló ti kéde ì...         2           4   \n",
       "1                   Gbogbo Ọba Yorùbá ló ń bọ òrìṣà.         0           2   \n",
       "2  Yàrá ìforúkọsílẹ̀ olùdìbò ni a ti ṣí síta l...         0           2   \n",
       "3  Ọlọ́pàá Èkó ti mú ọlọ́pàá tó yìnbọn pa arábì...         0           2   \n",
       "4  Àwa kìí ṣe aláàárù, a sì kìí ṣe abó...         0           2   \n",
       "\n",
       "        age gender         accents  variant locale  segment  \n",
       "0  thirties   male  native speaker      NaN     yo      NaN  \n",
       "1  twenties   male             NaN      NaN     yo      NaN  \n",
       "2  twenties   male             NaN      NaN     yo      NaN  \n",
       "3  twenties   male             NaN      NaN     yo      NaN  \n",
       "4  twenties   male             NaN      NaN     yo      NaN  "
      ]
     },
     "execution_count": 11,
     "metadata": {},
     "output_type": "execute_result"
    }
   ],
   "source": [
    "invaildated_df = pd.read_csv('data/raw/iroyinspeech/invalidated.tsv', delimiter= '\\t')\n",
    "invaildated_df.head()"
   ]
  }
 ],
 "metadata": {
  "kernelspec": {
   "display_name": "app_title-D-s_o9_K-py3.10",
   "language": "python",
   "name": "python3"
  },
  "language_info": {
   "codemirror_mode": {
    "name": "ipython",
    "version": 3
   },
   "file_extension": ".py",
   "mimetype": "text/x-python",
   "name": "python",
   "nbconvert_exporter": "python",
   "pygments_lexer": "ipython3",
   "version": "3.11.2"
  }
 },
 "nbformat": 4,
 "nbformat_minor": 2
}
