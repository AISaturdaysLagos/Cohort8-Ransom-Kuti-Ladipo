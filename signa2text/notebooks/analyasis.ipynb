{
 "cells": [
  {
   "cell_type": "code",
   "execution_count": 2,
   "metadata": {},
   "outputs": [
    {
     "ename": "ModuleNotFoundError",
     "evalue": "No module named 'linguify_yb'",
     "output_type": "error",
     "traceback": [
      "\u001b[0;31m---------------------------------------------------------------------------\u001b[0m",
      "\u001b[0;31mModuleNotFoundError\u001b[0m                       Traceback (most recent call last)",
      "\u001b[1;32m/workspace/Cohort8-Ransom-Kuti-Ladipo/linguify_yb/notebooks/analyasis.ipynb Cell 1\u001b[0m line \u001b[0;36m2\n\u001b[1;32m      <a href='vscode-notebook-cell://ssh-remote%2B7b22686f73744e616d65223a2272696c65796472697a7a792d636f686f72743872616e732d61786f686f306a6d3779682e7373682e77732d65753130362e676974706f642e696f222c2275736572223a2272696c65796472697a7a792d636f686f72743872616e732d61786f686f306a6d377968227d/workspace/Cohort8-Ransom-Kuti-Ladipo/linguify_yb/notebooks/analyasis.ipynb#W0sdnNjb2RlLXJlbW90ZQ%3D%3D?line=0'>1</a>\u001b[0m \u001b[39mimport\u001b[39;00m \u001b[39mos\u001b[39;00m\n\u001b[0;32m----> <a href='vscode-notebook-cell://ssh-remote%2B7b22686f73744e616d65223a2272696c65796472697a7a792d636f686f72743872616e732d61786f686f306a6d3779682e7373682e77732d65753130362e676974706f642e696f222c2275736572223a2272696c65796472697a7a792d636f686f72743872616e732d61786f686f306a6d377968227d/workspace/Cohort8-Ransom-Kuti-Ladipo/linguify_yb/notebooks/analyasis.ipynb#W0sdnNjb2RlLXJlbW90ZQ%3D%3D?line=1'>2</a>\u001b[0m \u001b[39mfrom\u001b[39;00m \u001b[39mlinguify_yb\u001b[39;00m\u001b[39m.\u001b[39;00m\u001b[39msrc\u001b[39;00m\u001b[39m.\u001b[39;00m\u001b[39mdataset\u001b[39;00m\u001b[39m.\u001b[39;00m\u001b[39mframes_config\u001b[39;00m \u001b[39mimport\u001b[39;00m FEATURE_COLUMNS, RHAND_IDX, LHAND_IDX\n",
      "\u001b[0;31mModuleNotFoundError\u001b[0m: No module named 'linguify_yb'"
     ]
    }
   ],
   "source": [
    "import os\n",
    "from linguify_yb.src.dataset.frames_config import FEATURE_COLUMNS, RHAND_IDX, LHAND_IDX"
   ]
  },
  {
   "cell_type": "code",
   "execution_count": 2,
   "metadata": {},
   "outputs": [],
   "source": [
    "os.chdir('..')"
   ]
  },
  {
   "cell_type": "code",
   "execution_count": 3,
   "metadata": {},
   "outputs": [
    {
     "data": {
      "text/html": [
       "<div>\n",
       "<style scoped>\n",
       "    .dataframe tbody tr th:only-of-type {\n",
       "        vertical-align: middle;\n",
       "    }\n",
       "\n",
       "    .dataframe tbody tr th {\n",
       "        vertical-align: top;\n",
       "    }\n",
       "\n",
       "    .dataframe thead th {\n",
       "        text-align: right;\n",
       "    }\n",
       "</style>\n",
       "<table border=\"1\" class=\"dataframe\">\n",
       "  <thead>\n",
       "    <tr style=\"text-align: right;\">\n",
       "      <th></th>\n",
       "      <th>path</th>\n",
       "      <th>file_id</th>\n",
       "      <th>sequence_id</th>\n",
       "      <th>participant_id</th>\n",
       "      <th>phrase</th>\n",
       "    </tr>\n",
       "  </thead>\n",
       "  <tbody>\n",
       "    <tr>\n",
       "      <th>0</th>\n",
       "      <td>train_landmarks/5414471.parquet</td>\n",
       "      <td>5414471</td>\n",
       "      <td>1816796431</td>\n",
       "      <td>217</td>\n",
       "      <td>3 creekhouse</td>\n",
       "    </tr>\n",
       "    <tr>\n",
       "      <th>1</th>\n",
       "      <td>train_landmarks/5414471.parquet</td>\n",
       "      <td>5414471</td>\n",
       "      <td>1816825349</td>\n",
       "      <td>107</td>\n",
       "      <td>scales/kuhaylah</td>\n",
       "    </tr>\n",
       "    <tr>\n",
       "      <th>2</th>\n",
       "      <td>train_landmarks/5414471.parquet</td>\n",
       "      <td>5414471</td>\n",
       "      <td>1816909464</td>\n",
       "      <td>1</td>\n",
       "      <td>1383 william lanier</td>\n",
       "    </tr>\n",
       "    <tr>\n",
       "      <th>3</th>\n",
       "      <td>train_landmarks/5414471.parquet</td>\n",
       "      <td>5414471</td>\n",
       "      <td>1816967051</td>\n",
       "      <td>63</td>\n",
       "      <td>988 franklin lane</td>\n",
       "    </tr>\n",
       "    <tr>\n",
       "      <th>4</th>\n",
       "      <td>train_landmarks/5414471.parquet</td>\n",
       "      <td>5414471</td>\n",
       "      <td>1817123330</td>\n",
       "      <td>89</td>\n",
       "      <td>6920 northeast 661st road</td>\n",
       "    </tr>\n",
       "  </tbody>\n",
       "</table>\n",
       "</div>"
      ],
      "text/plain": [
       "                              path  file_id  sequence_id  participant_id  \\\n",
       "0  train_landmarks/5414471.parquet  5414471   1816796431             217   \n",
       "1  train_landmarks/5414471.parquet  5414471   1816825349             107   \n",
       "2  train_landmarks/5414471.parquet  5414471   1816909464               1   \n",
       "3  train_landmarks/5414471.parquet  5414471   1816967051              63   \n",
       "4  train_landmarks/5414471.parquet  5414471   1817123330              89   \n",
       "\n",
       "                      phrase  \n",
       "0               3 creekhouse  \n",
       "1            scales/kuhaylah  \n",
       "2        1383 william lanier  \n",
       "3          988 franklin lane  \n",
       "4  6920 northeast 661st road  "
      ]
     },
     "execution_count": 3,
     "metadata": {},
     "output_type": "execute_result"
    }
   ],
   "source": [
    "train_metadata_df = pd.read_csv('data/raw/train.csv')\n",
    "train_metadata_df.head()"
   ]
  },
  {
   "cell_type": "code",
   "execution_count": 4,
   "metadata": {},
   "outputs": [
    {
     "data": {
      "text/plain": [
       "(67208, 5)"
      ]
     },
     "execution_count": 4,
     "metadata": {},
     "output_type": "execute_result"
    }
   ],
   "source": [
    "train_metadata_df.shape"
   ]
  },
  {
   "cell_type": "code",
   "execution_count": 10,
   "metadata": {},
   "outputs": [
    {
     "name": "stdout",
     "output_type": "stream",
     "text": [
      "<class 'pandas.core.frame.DataFrame'>\n",
      "RangeIndex: 67208 entries, 0 to 67207\n",
      "Data columns (total 5 columns):\n",
      " #   Column          Non-Null Count  Dtype \n",
      "---  ------          --------------  ----- \n",
      " 0   path            67208 non-null  object\n",
      " 1   file_id         67208 non-null  int64 \n",
      " 2   sequence_id     67208 non-null  int64 \n",
      " 3   participant_id  67208 non-null  int64 \n",
      " 4   phrase          67208 non-null  object\n",
      "dtypes: int64(3), object(2)\n",
      "memory usage: 2.6+ MB\n"
     ]
    }
   ],
   "source": [
    "train_metadata_df.info()"
   ]
  },
  {
   "cell_type": "code",
   "execution_count": 13,
   "metadata": {},
   "outputs": [
    {
     "data": {
      "text/plain": [
       "path              0\n",
       "file_id           0\n",
       "sequence_id       0\n",
       "participant_id    0\n",
       "phrase            0\n",
       "dtype: int64"
      ]
     },
     "execution_count": 13,
     "metadata": {},
     "output_type": "execute_result"
    }
   ],
   "source": [
    "train_metadata_df.isnull().sum()"
   ]
  },
  {
   "cell_type": "code",
   "execution_count": 14,
   "metadata": {},
   "outputs": [
    {
     "data": {
      "text/plain": [
       "0                 3 creekhouse\n",
       "1              scales/kuhaylah\n",
       "2          1383 william lanier\n",
       "3            988 franklin lane\n",
       "4    6920 northeast 661st road\n",
       "5              www.freem.ne.jp\n",
       "6       https://jsi.is/hukuoka\n",
       "7         239613 stolze street\n",
       "8                 242-197-6202\n",
       "9    271097 bayshore boulevard\n",
       "Name: phrase, dtype: object"
      ]
     },
     "execution_count": 14,
     "metadata": {},
     "output_type": "execute_result"
    }
   ],
   "source": [
    "train_metadata_df['phrase'][:10]"
   ]
  },
  {
   "cell_type": "code",
   "execution_count": 16,
   "metadata": {},
   "outputs": [
    {
     "data": {
      "text/plain": [
       "100             4874 sairley\n",
       "101             752-573-2075\n",
       "102              toby larson\n",
       "103           +878-34-43-656\n",
       "104             +49-81-95228\n",
       "105           3830 pn 3906th\n",
       "106    +31-103-4764-61-76950\n",
       "107          www.lemon.co.jp\n",
       "108         7575 onawa drive\n",
       "109             841-199-8196\n",
       "Name: phrase, dtype: object"
      ]
     },
     "execution_count": 16,
     "metadata": {},
     "output_type": "execute_result"
    }
   ],
   "source": [
    "train_metadata_df['phrase'][100:110]"
   ]
  },
  {
   "cell_type": "code",
   "execution_count": 5,
   "metadata": {},
   "outputs": [
    {
     "data": {
      "text/html": [
       "<div>\n",
       "<style scoped>\n",
       "    .dataframe tbody tr th:only-of-type {\n",
       "        vertical-align: middle;\n",
       "    }\n",
       "\n",
       "    .dataframe tbody tr th {\n",
       "        vertical-align: top;\n",
       "    }\n",
       "\n",
       "    .dataframe thead th {\n",
       "        text-align: right;\n",
       "    }\n",
       "</style>\n",
       "<table border=\"1\" class=\"dataframe\">\n",
       "  <thead>\n",
       "    <tr style=\"text-align: right;\">\n",
       "      <th></th>\n",
       "      <th>frame</th>\n",
       "      <th>x_face_0</th>\n",
       "      <th>x_face_1</th>\n",
       "      <th>x_face_2</th>\n",
       "      <th>x_face_3</th>\n",
       "      <th>x_face_4</th>\n",
       "      <th>x_face_5</th>\n",
       "      <th>x_face_6</th>\n",
       "      <th>x_face_7</th>\n",
       "      <th>x_face_8</th>\n",
       "      <th>...</th>\n",
       "      <th>z_right_hand_11</th>\n",
       "      <th>z_right_hand_12</th>\n",
       "      <th>z_right_hand_13</th>\n",
       "      <th>z_right_hand_14</th>\n",
       "      <th>z_right_hand_15</th>\n",
       "      <th>z_right_hand_16</th>\n",
       "      <th>z_right_hand_17</th>\n",
       "      <th>z_right_hand_18</th>\n",
       "      <th>z_right_hand_19</th>\n",
       "      <th>z_right_hand_20</th>\n",
       "    </tr>\n",
       "    <tr>\n",
       "      <th>sequence_id</th>\n",
       "      <th></th>\n",
       "      <th></th>\n",
       "      <th></th>\n",
       "      <th></th>\n",
       "      <th></th>\n",
       "      <th></th>\n",
       "      <th></th>\n",
       "      <th></th>\n",
       "      <th></th>\n",
       "      <th></th>\n",
       "      <th></th>\n",
       "      <th></th>\n",
       "      <th></th>\n",
       "      <th></th>\n",
       "      <th></th>\n",
       "      <th></th>\n",
       "      <th></th>\n",
       "      <th></th>\n",
       "      <th></th>\n",
       "      <th></th>\n",
       "      <th></th>\n",
       "    </tr>\n",
       "  </thead>\n",
       "  <tbody>\n",
       "    <tr>\n",
       "      <th>1975433633</th>\n",
       "      <td>0</td>\n",
       "      <td>0.578892</td>\n",
       "      <td>0.578482</td>\n",
       "      <td>0.582906</td>\n",
       "      <td>0.572686</td>\n",
       "      <td>0.579030</td>\n",
       "      <td>0.582115</td>\n",
       "      <td>0.591430</td>\n",
       "      <td>0.498995</td>\n",
       "      <td>0.595773</td>\n",
       "      <td>...</td>\n",
       "      <td>-0.253687</td>\n",
       "      <td>-0.291687</td>\n",
       "      <td>-0.123892</td>\n",
       "      <td>-0.195255</td>\n",
       "      <td>-0.249135</td>\n",
       "      <td>-0.284375</td>\n",
       "      <td>-0.125050</td>\n",
       "      <td>-0.187797</td>\n",
       "      <td>-0.224827</td>\n",
       "      <td>-0.249662</td>\n",
       "    </tr>\n",
       "    <tr>\n",
       "      <th>1975433633</th>\n",
       "      <td>1</td>\n",
       "      <td>0.577563</td>\n",
       "      <td>0.578528</td>\n",
       "      <td>0.582916</td>\n",
       "      <td>0.572760</td>\n",
       "      <td>0.579090</td>\n",
       "      <td>0.582197</td>\n",
       "      <td>0.591687</td>\n",
       "      <td>0.497613</td>\n",
       "      <td>0.596104</td>\n",
       "      <td>...</td>\n",
       "      <td>NaN</td>\n",
       "      <td>NaN</td>\n",
       "      <td>NaN</td>\n",
       "      <td>NaN</td>\n",
       "      <td>NaN</td>\n",
       "      <td>NaN</td>\n",
       "      <td>NaN</td>\n",
       "      <td>NaN</td>\n",
       "      <td>NaN</td>\n",
       "      <td>NaN</td>\n",
       "    </tr>\n",
       "    <tr>\n",
       "      <th>1975433633</th>\n",
       "      <td>2</td>\n",
       "      <td>0.576181</td>\n",
       "      <td>0.576949</td>\n",
       "      <td>0.581346</td>\n",
       "      <td>0.572293</td>\n",
       "      <td>0.577725</td>\n",
       "      <td>0.581191</td>\n",
       "      <td>0.591550</td>\n",
       "      <td>0.497113</td>\n",
       "      <td>0.596477</td>\n",
       "      <td>...</td>\n",
       "      <td>-0.233556</td>\n",
       "      <td>-0.267114</td>\n",
       "      <td>-0.116145</td>\n",
       "      <td>-0.179053</td>\n",
       "      <td>-0.223861</td>\n",
       "      <td>-0.253004</td>\n",
       "      <td>-0.122090</td>\n",
       "      <td>-0.173169</td>\n",
       "      <td>-0.200727</td>\n",
       "      <td>-0.219106</td>\n",
       "    </tr>\n",
       "    <tr>\n",
       "      <th>1975433633</th>\n",
       "      <td>3</td>\n",
       "      <td>0.575575</td>\n",
       "      <td>0.577569</td>\n",
       "      <td>0.581769</td>\n",
       "      <td>0.572443</td>\n",
       "      <td>0.578289</td>\n",
       "      <td>0.581652</td>\n",
       "      <td>0.591728</td>\n",
       "      <td>0.496759</td>\n",
       "      <td>0.596573</td>\n",
       "      <td>...</td>\n",
       "      <td>-0.190909</td>\n",
       "      <td>-0.218471</td>\n",
       "      <td>-0.093956</td>\n",
       "      <td>-0.149982</td>\n",
       "      <td>-0.188452</td>\n",
       "      <td>-0.211573</td>\n",
       "      <td>-0.102759</td>\n",
       "      <td>-0.147642</td>\n",
       "      <td>-0.168562</td>\n",
       "      <td>-0.180578</td>\n",
       "    </tr>\n",
       "    <tr>\n",
       "      <th>1975433633</th>\n",
       "      <td>4</td>\n",
       "      <td>0.577907</td>\n",
       "      <td>0.577628</td>\n",
       "      <td>0.582295</td>\n",
       "      <td>0.572930</td>\n",
       "      <td>0.578345</td>\n",
       "      <td>0.581873</td>\n",
       "      <td>0.592467</td>\n",
       "      <td>0.498170</td>\n",
       "      <td>0.597383</td>\n",
       "      <td>...</td>\n",
       "      <td>NaN</td>\n",
       "      <td>NaN</td>\n",
       "      <td>NaN</td>\n",
       "      <td>NaN</td>\n",
       "      <td>NaN</td>\n",
       "      <td>NaN</td>\n",
       "      <td>NaN</td>\n",
       "      <td>NaN</td>\n",
       "      <td>NaN</td>\n",
       "      <td>NaN</td>\n",
       "    </tr>\n",
       "  </tbody>\n",
       "</table>\n",
       "<p>5 rows × 1630 columns</p>\n",
       "</div>"
      ],
      "text/plain": [
       "             frame  x_face_0  x_face_1  x_face_2  x_face_3  x_face_4  \\\n",
       "sequence_id                                                            \n",
       "1975433633       0  0.578892  0.578482  0.582906  0.572686  0.579030   \n",
       "1975433633       1  0.577563  0.578528  0.582916  0.572760  0.579090   \n",
       "1975433633       2  0.576181  0.576949  0.581346  0.572293  0.577725   \n",
       "1975433633       3  0.575575  0.577569  0.581769  0.572443  0.578289   \n",
       "1975433633       4  0.577907  0.577628  0.582295  0.572930  0.578345   \n",
       "\n",
       "             x_face_5  x_face_6  x_face_7  x_face_8  ...  z_right_hand_11  \\\n",
       "sequence_id                                          ...                    \n",
       "1975433633   0.582115  0.591430  0.498995  0.595773  ...        -0.253687   \n",
       "1975433633   0.582197  0.591687  0.497613  0.596104  ...              NaN   \n",
       "1975433633   0.581191  0.591550  0.497113  0.596477  ...        -0.233556   \n",
       "1975433633   0.581652  0.591728  0.496759  0.596573  ...        -0.190909   \n",
       "1975433633   0.581873  0.592467  0.498170  0.597383  ...              NaN   \n",
       "\n",
       "             z_right_hand_12  z_right_hand_13  z_right_hand_14  \\\n",
       "sequence_id                                                      \n",
       "1975433633         -0.291687        -0.123892        -0.195255   \n",
       "1975433633               NaN              NaN              NaN   \n",
       "1975433633         -0.267114        -0.116145        -0.179053   \n",
       "1975433633         -0.218471        -0.093956        -0.149982   \n",
       "1975433633               NaN              NaN              NaN   \n",
       "\n",
       "             z_right_hand_15  z_right_hand_16  z_right_hand_17  \\\n",
       "sequence_id                                                      \n",
       "1975433633         -0.249135        -0.284375        -0.125050   \n",
       "1975433633               NaN              NaN              NaN   \n",
       "1975433633         -0.223861        -0.253004        -0.122090   \n",
       "1975433633         -0.188452        -0.211573        -0.102759   \n",
       "1975433633               NaN              NaN              NaN   \n",
       "\n",
       "             z_right_hand_18  z_right_hand_19  z_right_hand_20  \n",
       "sequence_id                                                     \n",
       "1975433633         -0.187797        -0.224827        -0.249662  \n",
       "1975433633               NaN              NaN              NaN  \n",
       "1975433633         -0.173169        -0.200727        -0.219106  \n",
       "1975433633         -0.147642        -0.168562        -0.180578  \n",
       "1975433633               NaN              NaN              NaN  \n",
       "\n",
       "[5 rows x 1630 columns]"
      ]
     },
     "execution_count": 5,
     "metadata": {},
     "output_type": "execute_result"
    }
   ],
   "source": [
    "landmarks_one = pd.read_parquet('data/raw/train_landmarks/1019715464.parquet')\n",
    "landmarks_one.head()"
   ]
  },
  {
   "cell_type": "code",
   "execution_count": 7,
   "metadata": {},
   "outputs": [
    {
     "data": {
      "text/plain": [
       "Index(['frame', 'x_face_0', 'x_face_1', 'x_face_2', 'x_face_3', 'x_face_4',\n",
       "       'x_face_5', 'x_face_6', 'x_face_7', 'x_face_8', 'x_face_9', 'x_face_10',\n",
       "       'x_face_11', 'x_face_12', 'x_face_13', 'x_face_14', 'x_face_15',\n",
       "       'x_face_16', 'x_face_17', 'x_face_18', 'x_face_19', 'x_face_20',\n",
       "       'x_face_21', 'x_face_22', 'x_face_23', 'x_face_24', 'x_face_25',\n",
       "       'x_face_26', 'x_face_27', 'x_face_28', 'x_face_29', 'x_face_30',\n",
       "       'x_face_31', 'x_face_32', 'x_face_33', 'x_face_34', 'x_face_35',\n",
       "       'x_face_36', 'x_face_37', 'x_face_38'],\n",
       "      dtype='object')"
      ]
     },
     "execution_count": 7,
     "metadata": {},
     "output_type": "execute_result"
    }
   ],
   "source": [
    "columns = landmarks_one.columns\n",
    "columns[:40]"
   ]
  },
  {
   "cell_type": "code",
   "execution_count": 8,
   "metadata": {},
   "outputs": [
    {
     "data": {
      "text/plain": [
       "Index(['x_face_39', 'x_face_40', 'x_face_41', 'x_face_42', 'x_face_43',\n",
       "       'x_face_44', 'x_face_45', 'x_face_46', 'x_face_47', 'x_face_48',\n",
       "       'x_face_49', 'x_face_50', 'x_face_51', 'x_face_52', 'x_face_53',\n",
       "       'x_face_54', 'x_face_55', 'x_face_56', 'x_face_57', 'x_face_58',\n",
       "       'x_face_59', 'x_face_60', 'x_face_61', 'x_face_62', 'x_face_63',\n",
       "       'x_face_64', 'x_face_65', 'x_face_66', 'x_face_67', 'x_face_68',\n",
       "       'x_face_69', 'x_face_70', 'x_face_71', 'x_face_72', 'x_face_73',\n",
       "       'x_face_74', 'x_face_75', 'x_face_76', 'x_face_77', 'x_face_78'],\n",
       "      dtype='object')"
      ]
     },
     "execution_count": 8,
     "metadata": {},
     "output_type": "execute_result"
    }
   ],
   "source": [
    "columns[40:80]"
   ]
  },
  {
   "cell_type": "code",
   "execution_count": null,
   "metadata": {},
   "outputs": [],
   "source": []
  }
 ],
 "metadata": {
  "kernelspec": {
   "display_name": "app_title-D-s_o9_K-py3.10",
   "language": "python",
   "name": "python3"
  },
  "language_info": {
   "codemirror_mode": {
    "name": "ipython",
    "version": 3
   },
   "file_extension": ".py",
   "mimetype": "text/x-python",
   "name": "python",
   "nbconvert_exporter": "python",
   "pygments_lexer": "ipython3",
   "version": "3.10.12"
  }
 },
 "nbformat": 4,
 "nbformat_minor": 2
}
